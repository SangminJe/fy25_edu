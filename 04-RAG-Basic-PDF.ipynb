{
 "cells": [
  {
   "cell_type": "markdown",
   "id": "6b82288e",
   "metadata": {},
   "source": [
    "# RAG 기본 구조 이해하기"
   ]
  },
  {
   "cell_type": "markdown",
   "id": "5af728f8",
   "metadata": {},
   "source": [
    "![alt text](<images/1_4_rag process.png>)"
   ]
  },
  {
   "cell_type": "markdown",
   "id": "1cf05522",
   "metadata": {},
   "source": [
    "## 실습에 활용한 문서\n",
    "- 국토교통부 25년 주요 업무 추진 계획"
   ]
  },
  {
   "cell_type": "code",
   "execution_count": 2,
   "id": "418ab505",
   "metadata": {},
   "outputs": [
    {
     "data": {
      "text/plain": [
       "True"
      ]
     },
     "execution_count": 2,
     "metadata": {},
     "output_type": "execute_result"
    }
   ],
   "source": [
    "# API 키를 환경변수로 관리하기 위한 설정 파일\n",
    "from dotenv import load_dotenv\n",
    "\n",
    "# API 키 정보 로드\n",
    "load_dotenv()"
   ]
  },
  {
   "cell_type": "markdown",
   "id": "9b0d050a",
   "metadata": {},
   "source": [
    "## RAG 기본 파이프라인(1~8단계)\n"
   ]
  },
  {
   "cell_type": "code",
   "execution_count": 3,
   "id": "f3d1b0fc",
   "metadata": {},
   "outputs": [],
   "source": [
    "from langchain_text_splitters import RecursiveCharacterTextSplitter\n",
    "from langchain_community.document_loaders import PyMuPDFLoader\n",
    "from langchain_community.vectorstores import FAISS\n",
    "from langchain_core.output_parsers import StrOutputParser\n",
    "from langchain_core.runnables import RunnablePassthrough\n",
    "from langchain_core.prompts import PromptTemplate\n",
    "from langchain_openai import ChatOpenAI, OpenAIEmbeddings"
   ]
  },
  {
   "cell_type": "markdown",
   "id": "48e783c4",
   "metadata": {},
   "source": [
    "아래는 기본적인 RAG 구조 이해를 위한 뼈대코드(skeleton code) 입니다.\n",
    "\n",
    "각 단계별 모듈의 내용을 앞으로 상황에 맞게 변경하면서 문서에 적합한 구조를 찾아갈 수 있습니다.\n",
    "\n",
    "(각 단계별로 다양한 옵션을 설정하거나 새로운 기법을 적용할 수 있습니다.)"
   ]
  },
  {
   "cell_type": "code",
   "execution_count": 4,
   "id": "377894c9",
   "metadata": {},
   "outputs": [
    {
     "name": "stdout",
     "output_type": "stream",
     "text": [
      "문서의 페이지수: 18\n"
     ]
    }
   ],
   "source": [
    "# 단계 1: 문서 로드(Load Documents)\n",
    "loader = PyMuPDFLoader(\"data/250114_국토교통부자료.pdf\")\n",
    "docs = loader.load()\n",
    "print(f\"문서의 페이지수: {len(docs)}\")"
   ]
  },
  {
   "cell_type": "markdown",
   "id": "3b34f4fe",
   "metadata": {},
   "source": [
    "페이지의 내용을 출력합니다."
   ]
  },
  {
   "cell_type": "code",
   "execution_count": 5,
   "id": "ddf0d7c7",
   "metadata": {},
   "outputs": [
    {
     "name": "stdout",
     "output_type": "stream",
     "text": [
      "- 11 -\n",
      "ㅇ \n",
      " \n",
      "상가로 제한된 도시재생씨앗융자* 지원대상을 주상복합 건축물주택 연면적\n",
      "(\n",
      " \n",
      "이내\n",
      "50% \n",
      ")까지 확대(’25.1)하고, 소상공인을 위해 도로점용료 감면을 \n",
      "년\n",
      "’26\n",
      "까지 연장한다.\n",
      "쇠퇴도심에 상가창업시설을 조성할 경우 저리 대출 지원주택도시기금\n",
      "    * \n",
      ", \n",
      "(\n",
      ")\n",
      "4. 편리하고 수준 높은 교통 서비스를 제공하겠습니다.\n",
      "□지역 간 교통망을 확충하고이동 편의를 제고하기 위한 \n",
      ", \n",
      "교통 서비스도 확대\n",
      "한다또한\n",
      ". \n",
      ", 교통약자와 물류 현장 종사자등을 위한 지원도 강화한다\n",
      " \n",
      ".\n",
      "➊전국을 촘촘하게 연결하는 교통망을 구축한다.\n",
      "□철도망은 경부호남 고속선축에 위치한 대도시권 외에도 전국 주요 거점을 \n",
      "·\n",
      "빠르게 연결할 수 있는 “\n",
      "고속철도망\n",
      "4 × 4 \n",
      "구축을 가속화한다\n",
      "” \n",
      ". 경전\n",
      "선축 보성\n",
      "임성리\n",
      "∼\n",
      "개통\n",
      " \n",
      "(`25.\n",
      ")\n",
      "下, 중부내륙선축 수서\n",
      "광주 및 김천거제 \n",
      "~\n",
      "∼\n",
      "착공(`25.\n",
      ")\n",
      "下\n",
      "등\n",
      " \n",
      " 확정된 고속철도망 사업을신속히 추진하여\n",
      " \n",
      ", 전국 \n",
      "시간\n",
      "2\n",
      " \n",
      "생활권을 실현하고 전 국민의 90%에게 고속철도 서비스를 제공할 계획이다.\n",
      "    * 종축서해전라선중부내륙선중앙선동해선횡축서울속초선경강선대구광주선경전선\n",
      "(\n",
      ") \n",
      ", \n",
      ", \n",
      ", \n",
      ", (\n",
      ") \n",
      ", \n",
      ", \n",
      ", \n",
      "□간선 도로망도 지속 확충한다. 포항\n",
      "영덕 \n",
      "∼\n",
      "및 새만금\n",
      "전주 \n",
      "∼\n",
      "등고속도로\n",
      " \n",
      " \n",
      "개\n",
      "2\n",
      "(86.0\n",
      ")\n",
      "㎞와 충청내륙및 \n",
      " \n",
      "태백미로\n",
      "-\n",
      "등 \n",
      " \n",
      "국도 \n",
      "개\n",
      "18\n",
      "(145.6\n",
      ")\n",
      "㎞를 연내 개통\n",
      "하고, 부산신항\n",
      "김해\n",
      "∼\n",
      "및 \n",
      " \n",
      "계양\n",
      "강화\n",
      "∼\n",
      "등 고속도로 \n",
      "개\n",
      " \n",
      "2\n",
      "(42.7\n",
      ")\n",
      "㎞와 남양주\n",
      "춘천\n",
      "∼\n",
      "및 \n",
      " \n",
      "고창 흥덕부안 행안 \n",
      "-\n",
      "등 국도 \n",
      "개\n",
      "16\n",
      "(145.2\n",
      ")\n",
      "㎞를 착공하여 차질\n",
      "없이 사업을 추진할 계획이다.\n",
      "□한편\n",
      "가덕도신공항 착공\n",
      ", \n",
      "(`25.\n",
      ")\n",
      "下\n",
      "대구경북통합신공항 설계 착수\n",
      ", \n",
      "(`25.\n",
      ")\n",
      "上 \n",
      "등 기존 신공항 사업들도 차질없이 추진한다.\n",
      "전문가 자문을 거쳐 신공항 사업별 기본계획설계를 검토하는 등 안전성 확보\n",
      "   * \n",
      "·\n",
      "➋누구나 편리하게 이용할 수 있는 교통물류 서비스를 지원한다\n",
      "·\n",
      ".\n",
      "□휠체어 장애인의 단체 이동 편의 제고를 위해 다인승 특별교통수단을 \n",
      "도입(`25.\n",
      ")\n",
      "上하고\n",
      "전국 어디에서나 \n",
      "시간 편리하게 이용할 수 있도록 \n",
      ", \n",
      "24\n",
      "전국통합예약시스템도 시범 운영한다.(`25.5)\n",
      "ㅇ\n",
      " \n",
      "아울러임산부의 편리한 열차 이용을 위해 \n",
      ", \n",
      "KTX·일반열차에임\n",
      " \n",
      "산부 지정 \n",
      "좌석을 신규 도입한다.(`25.\n",
      ")\n",
      "下임산부는 주말 등 열차수요가 높은 시간\n",
      " \n",
      "대\n",
      "에도 좌석 예매 부담을 덜게 될 것으로 기대된다. \n",
      "임산부가 지정 좌석을 예매하지 않을 경우 일반 이용자가 예매 가능\n",
      "    *\n"
     ]
    }
   ],
   "source": [
    "print(docs[10].page_content)"
   ]
  },
  {
   "cell_type": "markdown",
   "id": "a7e2963b",
   "metadata": {},
   "source": [
    "`metadata` 를 확인합니다."
   ]
  },
  {
   "cell_type": "code",
   "execution_count": 6,
   "id": "6d6b05fd",
   "metadata": {},
   "outputs": [
    {
     "data": {
      "text/plain": [
       "{'id': None,\n",
       " 'metadata': {'producer': 'Microsoft: Print To PDF',\n",
       "  'creator': '',\n",
       "  'creationdate': '2025-01-10T15:57:58+09:00',\n",
       "  'source': 'data/250114_국토교통부자료.pdf',\n",
       "  'file_path': 'data/250114_국토교통부자료.pdf',\n",
       "  'total_pages': 18,\n",
       "  'format': 'PDF 1.7',\n",
       "  'title': '250114(p\\x04)__müX_¸H\\\\_|Áü_ôä_Ÿ@_´|_m€Pµ•',\n",
       "  'author': '',\n",
       "  'subject': '',\n",
       "  'keywords': '',\n",
       "  'moddate': '2025-01-10T15:57:58+09:00',\n",
       "  'trapped': '',\n",
       "  'modDate': \"D:20250110155758+09'00'\",\n",
       "  'creationDate': \"D:20250110155758+09'00'\",\n",
       "  'page': 10},\n",
       " 'page_content': '- 11 -\\nㅇ \\n \\n상가로 제한된 도시재생씨앗융자* 지원대상을 주상복합 건축물주택 연면적\\n(\\n \\n이내\\n50% \\n)까지 확대(’25.1)하고, 소상공인을 위해 도로점용료 감면을 \\n년\\n’26\\n까지 연장한다.\\n쇠퇴도심에 상가창업시설을 조성할 경우 저리 대출 지원주택도시기금\\n    * \\n, \\n(\\n)\\n4. 편리하고 수준 높은 교통 서비스를 제공하겠습니다.\\n□지역 간 교통망을 확충하고이동 편의를 제고하기 위한 \\n, \\n교통 서비스도 확대\\n한다또한\\n. \\n, 교통약자와 물류 현장 종사자등을 위한 지원도 강화한다\\n \\n.\\n➊전국을 촘촘하게 연결하는 교통망을 구축한다.\\n□철도망은 경부호남 고속선축에 위치한 대도시권 외에도 전국 주요 거점을 \\n·\\n빠르게 연결할 수 있는 “\\n고속철도망\\n4 × 4 \\n구축을 가속화한다\\n” \\n. 경전\\n선축 보성\\n임성리\\n∼\\n개통\\n \\n(`25.\\n)\\n下, 중부내륙선축 수서\\n광주 및 김천거제 \\n~\\n∼\\n착공(`25.\\n)\\n下\\n등\\n \\n 확정된 고속철도망 사업을신속히 추진하여\\n \\n, 전국 \\n시간\\n2\\n \\n생활권을 실현하고 전 국민의 90%에게 고속철도 서비스를 제공할 계획이다.\\n    * 종축서해전라선중부내륙선중앙선동해선횡축서울속초선경강선대구광주선경전선\\n(\\n) \\n, \\n, \\n, \\n, (\\n) \\n, \\n, \\n, \\n□간선 도로망도 지속 확충한다. 포항\\n영덕 \\n∼\\n및 새만금\\n전주 \\n∼\\n등고속도로\\n \\n \\n개\\n2\\n(86.0\\n)\\n㎞와 충청내륙및 \\n \\n태백미로\\n-\\n등 \\n \\n국도 \\n개\\n18\\n(145.6\\n)\\n㎞를 연내 개통\\n하고, 부산신항\\n김해\\n∼\\n및 \\n \\n계양\\n강화\\n∼\\n등 고속도로 \\n개\\n \\n2\\n(42.7\\n)\\n㎞와 남양주\\n춘천\\n∼\\n및 \\n \\n고창 흥덕부안 행안 \\n-\\n등 국도 \\n개\\n16\\n(145.2\\n)\\n㎞를 착공하여 차질\\n없이 사업을 추진할 계획이다.\\n□한편\\n가덕도신공항 착공\\n, \\n(`25.\\n)\\n下\\n대구경북통합신공항 설계 착수\\n, \\n(`25.\\n)\\n上 \\n등 기존 신공항 사업들도 차질없이 추진한다.\\n전문가 자문을 거쳐 신공항 사업별 기본계획설계를 검토하는 등 안전성 확보\\n   * \\n·\\n➋누구나 편리하게 이용할 수 있는 교통물류 서비스를 지원한다\\n·\\n.\\n□휠체어 장애인의 단체 이동 편의 제고를 위해 다인승 특별교통수단을 \\n도입(`25.\\n)\\n上하고\\n전국 어디에서나 \\n시간 편리하게 이용할 수 있도록 \\n, \\n24\\n전국통합예약시스템도 시범 운영한다.(`25.5)\\nㅇ\\n \\n아울러임산부의 편리한 열차 이용을 위해 \\n, \\nKTX·일반열차에임\\n \\n산부 지정 \\n좌석을 신규 도입한다.(`25.\\n)\\n下임산부는 주말 등 열차수요가 높은 시간\\n \\n대\\n에도 좌석 예매 부담을 덜게 될 것으로 기대된다. \\n임산부가 지정 좌석을 예매하지 않을 경우 일반 이용자가 예매 가능\\n    *',\n",
       " 'type': 'Document'}"
      ]
     },
     "execution_count": 6,
     "metadata": {},
     "output_type": "execute_result"
    }
   ],
   "source": [
    "docs[10].__dict__"
   ]
  },
  {
   "cell_type": "code",
   "execution_count": 7,
   "id": "1b52f26a",
   "metadata": {},
   "outputs": [
    {
     "name": "stdout",
     "output_type": "stream",
     "text": [
      "분할된 청크의수: 47\n"
     ]
    }
   ],
   "source": [
    "# 단계 2: 문서 분할(Split Documents)\n",
    "text_splitter = RecursiveCharacterTextSplitter(chunk_size=500, chunk_overlap=50)\n",
    "split_documents = text_splitter.split_documents(docs)\n",
    "print(f\"분할된 청크의수: {len(split_documents)}\")"
   ]
  },
  {
   "cell_type": "code",
   "execution_count": 8,
   "id": "795cfec7",
   "metadata": {},
   "outputs": [],
   "source": [
    "# 단계 3: 임베딩(Embedding) 생성\n",
    "embeddings = OpenAIEmbeddings()"
   ]
  },
  {
   "cell_type": "code",
   "execution_count": 9,
   "id": "82f47754",
   "metadata": {},
   "outputs": [],
   "source": [
    "# 단계 4: DB 생성(Create DB) 및 저장\n",
    "# 벡터스토어를 생성합니다.\n",
    "vectorstore = FAISS.from_documents(documents=split_documents, embedding=embeddings)"
   ]
  },
  {
   "cell_type": "code",
   "execution_count": 10,
   "id": "34dd3019",
   "metadata": {},
   "outputs": [
    {
     "name": "stdout",
     "output_type": "stream",
     "text": [
      "산업을 육성\n",
      "新\n",
      "하는 한편, 기존 산업의 체질도 적극 개선한다. \n",
      "➊미래를 선도해 나갈 \n",
      "산업을 육성한다. \n",
      "新\n",
      "□자율주행 단계 상용화를 위해 다각적인 실증을 추진한다서울 상암에서\n",
      "4\n",
      ". \n",
      " \n",
      "국내 최초로 완전 무인 자율주행 시범운행을 개시(’25.\n",
      ")\n",
      "下한다그간 무인\n",
      ". \n",
      " \n",
      "자율주행차 실증은 운전자가 운전석에 탑승한 상태로 진행되었으나이번\n",
      ", \n",
      "에는 탑승자 없이 \n",
      "이내\n",
      "50\n",
      "/h \n",
      "㎞\n",
      "의 속도로 상암 자율주행 시범운행지구 \n",
      "순환구간(3.2\n",
      ")\n",
      "㎞을 달린다. \n",
      "ㅇ \n",
      " \n",
      "최고 100\n",
      "/h\n",
      "㎞\n",
      "의 고속 자율주행과 장거리 자율주행 실증 지원하기 위해 \n",
      "전국의 고속도로를 자율차 시범운행지구로 지정한다고속도로 시범운행\n",
      ". \n",
      "지구는 자율주행이 용이하지 않은 \n",
      "구간\n",
      "IC \n",
      "등 일부를 제외\n",
      " \n",
      "하는 네거티브 \n",
      "방식으로 지정하고, 주요 물류 거점을 오가는 화물차들을 통해 자율주행 \n",
      "실증을 본격화한다.\n",
      "ㅇ 한편\n",
      " \n",
      ", 농어촌이나 새벽심야시간 \n",
      "·\n",
      "등 대중교통이 부족해 이동에 불편을\n",
      "국토교통 산업 혁신으로 더 나은 미래를 만들겠습니다\n",
      "5. \n",
      ".\n",
      "ㅇ\n",
      " \n",
      "전국 고속도로자율차 시범운행지구 지정 및 \n",
      " \n",
      "무인 자율차최초 운행\n",
      " \n",
      "ㅇ\n",
      " \n",
      "디지털 트윈 기반 공장 인\n",
      "허가 사전진단\n",
      "·\n",
      ", MRO 산업 지원방안 마련\n",
      " \n",
      "ㅇ\n",
      " \n",
      "K-City, \n",
      "철도\n",
      "K-\n",
      "수출\n",
      "지역 맞춤형 전략으로 \n",
      "년 \n",
      " \n",
      ", \n",
      "25\n",
      "`\n",
      "억불\n",
      "500\n",
      "달성\n",
      " \n",
      "보도자료\n",
      "- 14 -\n",
      "자율주행 시범운행지구 서비스 현황 \n",
      "< \n",
      ">\n",
      "서울\n",
      "심야 택시\n",
      "(\n",
      ") \n",
      "서울\n",
      "새벽\n",
      "심야버스\n",
      "(\n",
      ") \n",
      "·\n",
      "하동\n",
      "벽지노선 버스\n",
      "(\n",
      ") \n",
      "순천\n",
      "국가정원 셔틀\n",
      "(\n",
      ") \n",
      "□드론산업의 성장 촉진을 위해 기체의 핵심부품인 모터배터리 등을 국내\n",
      "·\n",
      "에서 안정적으로 수급할 수 있도록 ‘드론 제조 생태계 조성방안을 마련\n",
      "’\n",
      "(’25.9)하고기술 실증 등을 위한 \n",
      ", \n",
      "드론 특별 자유화구역도 대폭 확대\n",
      "곳\n",
      "(47\n",
      "곳\n",
      "70\n",
      ")\n",
      "→ \n",
      "한다.\n",
      "□도심항공교통\n",
      "은 글로벌 기술 경쟁력 제고를 위해 연내 아라뱃길 \n",
      "(UAM)\n",
      "등 수도권 도심 실증을 본격화하고민간의 사업 참여 유인을 높이기 위해\n",
      ", \n",
      " \n",
      "교통관광응급의료 등 \n",
      "·\n",
      "·\n",
      "상용화 모델을 다각화하는 한편\n",
      "개 지자체를 대상\n",
      ", 2\n",
      "으로 시범사업준비를 지원한다\n",
      " \n",
      ".(’25.\n",
      ")\n",
      "下  \n",
      "□또한스마트시티 기술 개발\n",
      "생태계 육성을 위해 재정 지원\n",
      "규제 특례\n",
      ", \n",
      ", \n",
      ", \n",
      ", \n",
      "기술 실증 등을 집중 지원하는 특화단지 개소\n",
      "1\n",
      "를 선정한다.\n",
      "억원\n",
      "(’25.\n",
      "- 18 -\n",
      "붙 임\n",
      " \n",
      "고속철도망\n",
      "4×4\n"
     ]
    }
   ],
   "source": [
    "for doc in vectorstore.similarity_search(\"자율주행차\"):\n",
    "    print(doc.page_content)"
   ]
  },
  {
   "cell_type": "code",
   "execution_count": 11,
   "id": "838f7729",
   "metadata": {},
   "outputs": [],
   "source": [
    "# 단계 5: 검색기(Retriever) 생성\n",
    "# 문서에 포함되어 있는 정보를 검색하고 생성합니다.\n",
    "retriever = vectorstore.as_retriever()"
   ]
  },
  {
   "cell_type": "markdown",
   "id": "f29da7b4",
   "metadata": {},
   "source": [
    "검색기에 쿼리를 날려 검색된 chunk 결과를 확인합니다."
   ]
  },
  {
   "cell_type": "code",
   "execution_count": 12,
   "id": "16c0ad82",
   "metadata": {},
   "outputs": [
    {
     "data": {
      "text/plain": [
       "[Document(id='9606c09b-6328-475d-95ae-7bc02dba069b', metadata={'producer': 'Microsoft: Print To PDF', 'creator': '', 'creationdate': '2025-01-10T15:57:58+09:00', 'source': 'data/250114_국토교통부자료.pdf', 'file_path': 'data/250114_국토교통부자료.pdf', 'total_pages': 18, 'format': 'PDF 1.7', 'title': '250114(p\\x04)__müX_¸H\\\\_|Áü_ôä_Ÿ@_´|_m€Pµ•', 'author': '', 'subject': '', 'keywords': '', 'moddate': '2025-01-10T15:57:58+09:00', 'trapped': '', 'modDate': \"D:20250110155758+09'00'\", 'creationDate': \"D:20250110155758+09'00'\", 'page': 13}, page_content='- 14 -\\n자율주행 시범운행지구 서비스 현황 \\n< \\n>\\n서울\\n심야 택시\\n(\\n) \\n서울\\n새벽\\n심야버스\\n(\\n) \\n·\\n하동\\n벽지노선 버스\\n(\\n) \\n순천\\n국가정원 셔틀\\n(\\n) \\n□드론산업의 성장 촉진을 위해 기체의 핵심부품인 모터배터리 등을 국내\\n·\\n에서 안정적으로 수급할 수 있도록 ‘드론 제조 생태계 조성방안을 마련\\n’\\n(’25.9)하고기술 실증 등을 위한 \\n, \\n드론 특별 자유화구역도 대폭 확대\\n곳\\n(47\\n곳\\n70\\n)\\n→ \\n한다.\\n□도심항공교통\\n은 글로벌 기술 경쟁력 제고를 위해 연내 아라뱃길 \\n(UAM)\\n등 수도권 도심 실증을 본격화하고민간의 사업 참여 유인을 높이기 위해\\n, \\n \\n교통관광응급의료 등 \\n·\\n·\\n상용화 모델을 다각화하는 한편\\n개 지자체를 대상\\n, 2\\n으로 시범사업준비를 지원한다\\n \\n.(’25.\\n)\\n下  \\n□또한스마트시티 기술 개발\\n생태계 육성을 위해 재정 지원\\n규제 특례\\n, \\n, \\n, \\n, \\n기술 실증 등을 집중 지원하는 특화단지 개소\\n1\\n를 선정한다.\\n억원\\n(’25.'),\n",
       " Document(id='26cb8f4f-ffea-4c14-8149-a803357302d9', metadata={'producer': 'Microsoft: Print To PDF', 'creator': '', 'creationdate': '2025-01-10T15:57:58+09:00', 'source': 'data/250114_국토교통부자료.pdf', 'file_path': 'data/250114_국토교통부자료.pdf', 'total_pages': 18, 'format': 'PDF 1.7', 'title': '250114(p\\x04)__müX_¸H\\\\_|Áü_ôä_Ÿ@_´|_m€Pµ•', 'author': '', 'subject': '', 'keywords': '', 'moddate': '2025-01-10T15:57:58+09:00', 'trapped': '', 'modDate': \"D:20250110155758+09'00'\", 'creationDate': \"D:20250110155758+09'00'\", 'page': 0}, page_content='국토교통 산업 혁신으로 더 나은 미래를 만들겠습니다\\n5. \\n.\\nㅇ\\n \\n전국 고속도로자율차 시범운행지구 지정 및 \\n \\n무인 자율차최초 운행\\n \\nㅇ\\n \\n디지털 트윈 기반 공장 인\\n허가 사전진단\\n·\\n, MRO 산업 지원방안 마련\\n \\nㅇ\\n \\nK-City, \\n철도\\nK-\\n수출\\n지역 맞춤형 전략으로 \\n년 \\n \\n, \\n25\\n`\\n억불\\n500\\n달성\\n \\n보도자료'),\n",
       " Document(id='84d14607-0c54-460c-8556-63f5d3809332', metadata={'producer': 'Microsoft: Print To PDF', 'creator': '', 'creationdate': '2025-01-10T15:57:58+09:00', 'source': 'data/250114_국토교통부자료.pdf', 'file_path': 'data/250114_국토교통부자료.pdf', 'total_pages': 18, 'format': 'PDF 1.7', 'title': '250114(p\\x04)__müX_¸H\\\\_|Áü_ôä_Ÿ@_´|_m€Pµ•', 'author': '', 'subject': '', 'keywords': '', 'moddate': '2025-01-10T15:57:58+09:00', 'trapped': '', 'modDate': \"D:20250110155758+09'00'\", 'creationDate': \"D:20250110155758+09'00'\", 'page': 15}, page_content='- 16 -\\nㅇ \\n \\nK-City 스마트시티\\n(\\n+ 엔터음식의료 등\\n·\\n·\\n), \\n철도\\nK-\\n(Fast & Safe) 등 우리나라의\\n \\n \\n우수한 기술력, 민관 합동 원팀코리아를 통한 협력체계와 더불어인프라 \\n \\n외교와 연계한 중동아시아중남미아프리카 등 지역별 맞춤 수주 전략\\n·\\n·\\n·\\n*\\n으로 글로벌 영토를 지속 확장해 나간다.\\n지역별 맞춤형 수주전략 \\n< \\n>\\nㅇ \\n \\n또한, 해외 투자개발사업지원을 위해 \\n \\n조원 규모\\n1.5\\n의 \\n펀드\\nPIS \\n*\\n단계\\n 1\\n \\n투자를 완료하고, \\n조원 규모\\n1.1\\n의 단계 펀드 조성\\n2\\n도 추진한다. \\n    * \\n펀드 플랜트\\nPIS \\n: \\n(Plant) 건설\\n, \\n(Infrastructure) 스마트시티\\n, \\n(Smart City) 수출을 지원하는 펀드\\n \\n아울러\\n금년 하반기 경주에서 열릴 예정인 \\n, \\n□ \\n2025 APEC 아시아 태평양 \\n(\\n경제협력체)의 성공적인 개최를 위해 각국의 전용기 입항 주기장 확보김해\\n(\\n·'),\n",
       " Document(id='27222866-5136-433f-8218-9d29378d02af', metadata={'producer': 'Microsoft: Print To PDF', 'creator': '', 'creationdate': '2025-01-10T15:57:58+09:00', 'source': 'data/250114_국토교통부자료.pdf', 'file_path': 'data/250114_국토교통부자료.pdf', 'total_pages': 18, 'format': 'PDF 1.7', 'title': '250114(p\\x04)__müX_¸H\\\\_|Áü_ôä_Ÿ@_´|_m€Pµ•', 'author': '', 'subject': '', 'keywords': '', 'moddate': '2025-01-10T15:57:58+09:00', 'trapped': '', 'modDate': \"D:20250110155758+09'00'\", 'creationDate': \"D:20250110155758+09'00'\", 'page': 11}, page_content='아울러여행객들의 공항 이용 편의를 제고하기 위해 \\n, \\n안면인식손정맥\\n, \\n등\\n \\n \\n생체인식 기반의 스마트 출국 서비스를 확대\\n개소\\n개소\\n(22\\n188\\n)\\n→ \\n하여 출국 \\n대기시간을 최대 \\n분 단축\\n31\\n하고양 손이 가벼운 여행길을 위해 집에서\\n, \\n \\n해외 숙소로 수하물 배송을 지원하는 수하물 홈투홈 서비스도 본격 \\n시행한다.(’25.10)\\n□앞으로는 터널 내에서도 내비게이션을 끊김없이 이용할 수 있게 된다. \\n연말 개통되는 포항영덕 고속도로\\n-\\n의 청하터널(5.4\\n)\\n㎞에 터널 내 GPS를 \\n최초로 설치하여 터널 내에서도 내비게이션과 자율주행등의 서비스를 \\n \\n이용할 수 있는 환경을 조성한다.\\n터널 내 \\n기대효과 \\n< \\nGPS \\n>\\n➌물류 종사자가 안심하고 일할 수 있는 근로환경을 조성한다.\\n□택배기사가 본연의 물품 배송 업무에 집중할 수 있도록 물품 분류작업의 \\n범위를 명확화표준계약서 개정\\n(\\n, ’25.1)하고\\n위탁구역 등 주요 사항은 \\n, \\n계약')]"
      ]
     },
     "execution_count": 12,
     "metadata": {},
     "output_type": "execute_result"
    }
   ],
   "source": [
    "# 검색기에 쿼리를 날려 검색된 chunk 결과를 확인합니다.\n",
    "retriever.invoke(\"삼성전자가 자체 개발한 AI 의 이름은?\")"
   ]
  },
  {
   "cell_type": "code",
   "execution_count": 13,
   "id": "3bb3e26f",
   "metadata": {},
   "outputs": [],
   "source": [
    "# 단계 6: 프롬프트 생성(Create Prompt)\n",
    "# 프롬프트를 생성합니다.\n",
    "prompt = PromptTemplate.from_template(\n",
    "    \"\"\"You are an assistant for question-answering tasks.\n",
    "    Use the following pieces of retrieved context to answer the question. \n",
    "    If you don't know the answer, just say that you don't know. \n",
    "    Answer in Korean.\n",
    "\n",
    "    #Context: \n",
    "    {context}\n",
    "\n",
    "    #Question:\n",
    "    {question}\n",
    "\n",
    "    #Answer:\"\"\"\n",
    ")"
   ]
  },
  {
   "cell_type": "code",
   "execution_count": 14,
   "id": "669ed5b7",
   "metadata": {},
   "outputs": [],
   "source": [
    "# 단계 7: 언어모델(LLM) 생성\n",
    "# 모델(LLM) 을 생성합니다.\n",
    "llm = ChatOpenAI(model_name=\"gpt-4o\", temperature=0)"
   ]
  },
  {
   "cell_type": "code",
   "execution_count": 15,
   "id": "3113bc05",
   "metadata": {},
   "outputs": [],
   "source": [
    "# 단계 8: 체인(Chain) 생성\n",
    "chain = (\n",
    "    {\"context\": retriever, \"question\": RunnablePassthrough()}\n",
    "    | prompt\n",
    "    | llm\n",
    "    | StrOutputParser()\n",
    ")"
   ]
  },
  {
   "cell_type": "markdown",
   "id": "e79f4aeb",
   "metadata": {},
   "source": [
    "생성된 체인에 쿼리(질문)을 입력하고 실행합니다."
   ]
  },
  {
   "cell_type": "code",
   "execution_count": 16,
   "id": "50d6b7f0",
   "metadata": {},
   "outputs": [
    {
     "name": "stdout",
     "output_type": "stream",
     "text": [
      "2025년도 국토교통부의 핵심 추진과제는 다음과 같습니다:\n",
      "\n",
      "1. 안전한 대한민국을 만들기 위한 항공 안전 혁신 및 건설 단계별 안전 강화.\n",
      "2. 서민 주거안정을 위한 공공주택 신축 및 공급.\n",
      "3. 경쟁력 있는 지방시대 구축.\n",
      "4. 편리하고 수준 높은 교통서비스 제공.\n",
      "5. 국토교통산업 혁신.\n"
     ]
    }
   ],
   "source": [
    "# 체인 실행(Run Chain)\n",
    "# 문서에 대한 질의를 입력하고, 답변을 출력합니다.\n",
    "question = \"25년도 국토교통부 핵심 추진과제는?\"\n",
    "response = chain.invoke(question)\n",
    "print(response)"
   ]
  },
  {
   "cell_type": "markdown",
   "id": "f8444e43",
   "metadata": {},
   "source": [
    "## 전체 코드"
   ]
  },
  {
   "cell_type": "code",
   "execution_count": 17,
   "id": "adc45dbf",
   "metadata": {},
   "outputs": [],
   "source": [
    "from langchain_text_splitters import RecursiveCharacterTextSplitter\n",
    "from langchain_community.document_loaders import PyMuPDFLoader\n",
    "from langchain_community.vectorstores import FAISS\n",
    "from langchain_core.output_parsers import StrOutputParser\n",
    "from langchain_core.runnables import RunnablePassthrough\n",
    "from langchain_core.prompts import PromptTemplate\n",
    "from langchain_openai import ChatOpenAI, OpenAIEmbeddings\n",
    "\n",
    "# 단계 1: 문서 로드(Load Documents)\n",
    "loader = PyMuPDFLoader(\"data/250114_국토교통부자료.pdf\")\n",
    "docs = loader.load()\n",
    "\n",
    "# 단계 2: 문서 분할(Split Documents)\n",
    "text_splitter = RecursiveCharacterTextSplitter(chunk_size=1000, chunk_overlap=50)\n",
    "split_documents = text_splitter.split_documents(docs)\n",
    "\n",
    "# 단계 3: 임베딩(Embedding) 생성\n",
    "embeddings = OpenAIEmbeddings()\n",
    "\n",
    "# 단계 4: DB 생성(Create DB) 및 저장\n",
    "# 벡터스토어를 생성합니다.\n",
    "vectorstore = FAISS.from_documents(documents=split_documents, embedding=embeddings)\n",
    "\n",
    "# 단계 5: 검색기(Retriever) 생성\n",
    "# 문서에 포함되어 있는 정보를 검색하고 생성합니다.\n",
    "retriever = vectorstore.as_retriever()\n",
    "\n",
    "# 단계 6: 프롬프트 생성(Create Prompt)\n",
    "# 프롬프트를 생성합니다.\n",
    "prompt = PromptTemplate.from_template(\n",
    "    \"\"\"You are an assistant for question-answering tasks. \n",
    "Use the following pieces of retrieved context to answer the question. \n",
    "If you don't know the answer, just say that you don't know. \n",
    "Answer in Korean.\n",
    "\n",
    "#Context: \n",
    "{context}\n",
    "\n",
    "#Question:\n",
    "{question}\n",
    "\n",
    "#Answer:\"\"\"\n",
    ")\n",
    "\n",
    "# 단계 7: 언어모델(LLM) 생성\n",
    "# 모델(LLM) 을 생성합니다.\n",
    "llm = ChatOpenAI(model_name=\"gpt-4o\", temperature=0)\n",
    "\n",
    "# 단계 8: 체인(Chain) 생성\n",
    "chain = (\n",
    "    {\"context\": retriever, \"question\": RunnablePassthrough()}\n",
    "    | prompt\n",
    "    | llm\n",
    "    | StrOutputParser()\n",
    ")"
   ]
  },
  {
   "cell_type": "code",
   "execution_count": 18,
   "id": "c5986cab",
   "metadata": {},
   "outputs": [
    {
     "name": "stdout",
     "output_type": "stream",
     "text": [
      "2025년도 국토교통부의 핵심 추진과제는 다음과 같습니다:\n",
      "\n",
      "1. 안전한 대한민국을 만들겠습니다.\n",
      "2. 서민 주거안정에 모든 힘을 쏟겠습니다.\n",
      "3. 경쟁력 있는 지방시대를 열겠습니다.\n",
      "4. 편리하고 수준 높은 교통 서비스를 제공하겠습니다.\n",
      "5. 국토교통 산업 혁신으로 더 나은 미래를 만들겠습니다.\n"
     ]
    }
   ],
   "source": [
    "# 체인 실행(Run Chain)\n",
    "# 문서에 대한 질의를 입력하고, 답변을 출력합니다.\n",
    "question = \"25년도 국토교통부 핵심 추진과제는?\"\n",
    "response = chain.invoke(question)\n",
    "print(response)"
   ]
  },
  {
   "cell_type": "code",
   "execution_count": null,
   "id": "40b6c8e8",
   "metadata": {},
   "outputs": [],
   "source": []
  }
 ],
 "metadata": {
  "kernelspec": {
   "display_name": ".venv",
   "language": "python",
   "name": "python3"
  },
  "language_info": {
   "codemirror_mode": {
    "name": "ipython",
    "version": 3
   },
   "file_extension": ".py",
   "mimetype": "text/x-python",
   "name": "python",
   "nbconvert_exporter": "python",
   "pygments_lexer": "ipython3",
   "version": "3.12.7"
  }
 },
 "nbformat": 4,
 "nbformat_minor": 5
}
